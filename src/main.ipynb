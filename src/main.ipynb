{
 "cells": [
  {
   "cell_type": "code",
   "execution_count": 3,
   "id": "47a5856e-5104-4e65-9e86-47b1dbb43bdb",
   "metadata": {},
   "outputs": [
    {
     "name": "stdout",
     "output_type": "stream",
     "text": [
      "Graph created with 9746 nodes and 1000209 edges.\n"
     ]
    }
   ],
   "source": [
    "import pandas as pd\n",
    "import networkx as nx\n",
    "\n",
    "from preprocess import load_movielens_data, create_bipartite_graph\n",
    "\n",
    "datapath = \"../data/ml-1m\"\n",
    "\n",
    "rating, movies, users = load_movielens_data(datapath)\n",
    "\n",
    "user_movie_graph = create_bipartite_graph(rating)"
   ]
  },
  {
   "cell_type": "code",
   "execution_count": 5,
   "id": "5459fe05-44f4-4974-9a1c-46e4992d3a5a",
   "metadata": {},
   "outputs": [],
   "source": [
    "def perform_random_walks(graph, start_node, walk_length=3, num_walks=None):\n",
    "    \"\"\"\n",
    "    Perform random walks from the start node.\n",
    "\n",
    "    Parameters:\n",
    "    - graph: NetworkX graph (bipartite with user and movie nodes).\n",
    "    - start_node: Node to start the random walks.\n",
    "    - walk_length: Length of each random walk.\n",
    "    - num_walks: Number of random walks to perform (default is total edges // 3).\n",
    "\n",
    "    Returns:\n",
    "    - movie_visits: Dictionary with movie nodes as keys and visit counts as values.\n",
    "    \"\"\"\n",
    "    # Determine number of walks\n",
    "    if num_walks is None:\n",
    "        num_walks = graph.number_of_nodes() // 3\n",
    "\n",
    "    # Initialize movie visit counts\n",
    "    movie_visits = defaultdict(int)\n",
    "\n",
    "    # Perform random walks\n",
    "    for _ in range(num_walks):\n",
    "        current_node = start_node\n",
    "        for _ in range(walk_length):\n",
    "            neighbors = list(graph.neighbors(current_node))\n",
    "            if not neighbors:\n",
    "                break\n",
    "            weights = [graph[current_node][neighbor].get(\"weight\", 1) for neighbor in neighbors]\n",
    "            probabilities = np.array(weights) / sum(weights)\n",
    "            \n",
    "            # Choose neighbor based on edge weights\n",
    "            current_node = np.random.choice(neighbors, p=probabilities)\n",
    "            if graph.nodes[current_node].get(\"bipartite\") == 1:  # Movie nodes\n",
    "                movie_visits[current_node] += 1\n",
    "    return movie_visits\n",
    "\n",
    "\n",
    "def rank_movies_with_penalty(graph, movie_visits, walk_length=3, penalty_type=\"b\", total_walks=25):\n",
    "    \"\"\"\n",
    "    Rank movies based on visit counts and penalties for missed visits in random walks.\n",
    "\n",
    "    Parameters:\n",
    "    - graph: NetworkX graph (bipartite with user and movie nodes).\n",
    "    - movie_visits: Dictionary with movie nodes as keys and visit counts as values.\n",
    "    - walk_length: Length of the random walks.\n",
    "    - penalty_type: Penalty type ('a', 'b', or 'c').\n",
    "    - total_walks: Total number of random walks performed.\n",
    "\n",
    "    Returns:\n",
    "    - sorted_movies: List of visited movies sorted by their scores (visits minus penalties).\n",
    "    \"\"\"\n",
    "    all_movies = [node for node, data in graph.nodes(data=True) if data.get(\"bipartite\") == 1]\n",
    "    visited_movies = set(movie_visits.keys())\n",
    "    unvisited_movies = set(all_movies) - visited_movies\n",
    "    \n",
    "    # Estimate m̂ (number of edges in the subgraph within `walk_length` steps)\n",
    "    bfs_edges = sum(1 for _ in nx.bfs_edges(graph, source=list(graph.nodes)[0], depth_limit=walk_length + 1))\n",
    "    m_hat = bfs_edges  # Estimated number of edges\n",
    "\n",
    "    # Prepare scores for visited movies only\n",
    "    movie_scores = {}\n",
    "\n",
    "    for movie, visited_times in movie_visits.items():\n",
    "        # Calculate penalty based on unvisited walks\n",
    "        unvisited_walks = total_walks - visited_times\n",
    "        penalty = 0\n",
    "\n",
    "        if penalty_type == \"a\":\n",
    "            penalty = m_hat\n",
    "        elif penalty_type == \"b\":\n",
    "            degree = graph.degree[movie]\n",
    "            penalty = (2 * m_hat) / degree if degree > 0 else 2 * m_hat  # Handle zero-degree cases\n",
    "        elif penalty_type == \"c\":\n",
    "            penalty = walk_length\n",
    "\n",
    "        # Calculate the score: visits - penalty\n",
    "        score = visited_times - (unvisited_walks * penalty)\n",
    "        movie_scores[movie] = score\n",
    "\n",
    "    # Sort visited movies by score in descending order\n",
    "    sorted_movies = sorted(movie_scores.items(), key=lambda x: x[1],reverse=True)\n",
    "    return sorted_movies"
   ]
  },
  {
   "cell_type": "code",
   "execution_count": 6,
   "id": "da1db27a-d6d4-4f3f-b1a9-84b7b6db369e",
   "metadata": {},
   "outputs": [],
   "source": [
    "def calculate_correctly_placed_pairs(recommendations, hidden_movies):\n",
    "    \"\"\"\n",
    "    Calculate accuracy based on correctly placed pairs.\n",
    "\n",
    "    Parameters:\n",
    "    - recommendations: List of tuples (movie, score) sorted by scores (output of rank_movies_with_penalty).\n",
    "    - hidden_movies: Set of ground truth hidden movies.\n",
    "\n",
    "    Returns:\n",
    "    - accuracy: Fraction of correctly placed pairs.\n",
    "    \"\"\"\n",
    "    # Extract movie rankings from recommendations\n",
    "    recommended_ranks = {movie: rank for rank, (movie, _) in enumerate(recommendations)}\n",
    "\n",
    "    # Separate hidden and non-hidden movies\n",
    "    hidden_movie_ranks = {movie: recommended_ranks[movie] for movie in hidden_movies if movie in recommended_ranks}\n",
    "    non_hidden_movie_ranks = {movie: recommended_ranks[movie] for movie in recommended_ranks if movie not in hidden_movies}\n",
    "\n",
    "    # Initialize pair counts\n",
    "    correct_pairs = 0\n",
    "    total_pairs = 0\n",
    "\n",
    "    # Compare all pairs of (hidden, non-hidden)\n",
    "    for hidden_movie, hidden_rank in hidden_movie_ranks.items():\n",
    "        for non_hidden_movie, non_hidden_rank in non_hidden_movie_ranks.items():\n",
    "            # A pair is correctly placed if the hidden movie is ranked higher (lower rank value)\n",
    "            if hidden_rank < non_hidden_rank:\n",
    "                correct_pairs += 1\n",
    "            total_pairs += 1\n",
    "\n",
    "    # Avoid division by zero\n",
    "    accuracy = (correct_pairs / total_pairs) if total_pairs > 0 else 0\n",
    "    return accuracy\n",
    "\n",
    "\n",
    "def calculate_top_k_accuracy(recommendations, hidden_movies, k=10):\n",
    "    \"\"\"\n",
    "    Calculate Top-K accuracy for recommendations.\n",
    "\n",
    "    Parameters:\n",
    "    - recommendations: List of tuples (movie, score) sorted by scores (output of rank_movies_with_penalty).\n",
    "    - hidden_movies: Set of ground truth movies.\n",
    "    - k: Number of top recommendations to consider.\n",
    "\n",
    "    Returns:\n",
    "    - accuracy: Fraction of top-K recommendations present in hidden_movies.\n",
    "    \"\"\"\n",
    "    # Get the top-K recommended movies\n",
    "    top_k_recommendations = [movie for movie, _ in recommendations[:k]]\n",
    "\n",
    "    # Calculate intersection with hidden movies\n",
    "    correct_recommendations = set(top_k_recommendations) & hidden_movies\n",
    "    # Compute accuracy\n",
    "    accuracy = len(correct_recommendations) / min(len(hidden_movies),k)\n",
    "    return accuracy"
   ]
  },
  {
   "cell_type": "code",
   "execution_count": 41,
   "id": "4f53bc4f-3d46-49f2-a05b-614211559bdc",
   "metadata": {},
   "outputs": [],
   "source": [
    "import pandas as pd\n",
    "import networkx as nx\n",
    "import numpy as np\n",
    "from collections import defaultdict\n",
    "import random\n",
    "\n",
    "def evaluate_recommender(graph, walk_length=3,num_walks=None ,penalty_type=\"a\", k=10):\n",
    "    \"\"\"\n",
    "    Evaluate the recommender system using random walks and penalties.\n",
    "\n",
    "    Parameters:\n",
    "    - graph: Bipartite graph.\n",
    "    - walk_length: Length of each random walk.\n",
    "    - penalty_type: Type of penalty for unvisited movies.\n",
    "    - k: Number of top recommendations to consider.\n",
    "\n",
    "    Returns:\n",
    "    - avg_top_k_accuracy: Average Top-K accuracy across users.\n",
    "    - avg_pair_accuracy: Average pairwise accuracy across users.\n",
    "    \"\"\"\n",
    "    users = [node for node, data in graph.nodes(data=True) if data.get(\"bipartite\") == 0]\n",
    "    avg_top_k_accuracy = 0\n",
    "    avg_pair_accuracy = 0\n",
    "    num_users = 0\n",
    "    results = []\n",
    "\n",
    "    if num_walks == None :\n",
    "        num_walks = len(users)//walk_length\n",
    "    \n",
    "    for user in users:\n",
    "        # Get movies watched by user\n",
    "        watched_movies = set(neighbor for neighbor in graph.neighbors(user) if graph.nodes[neighbor].get(\"bipartite\") == 1)\n",
    "        if len(watched_movies) > 10:\n",
    "            num_users += 1\n",
    "            print(f\"\\rWorking on: {user}\", end=\"\")\n",
    "            # Split movies into training and hidden sets\n",
    "            training_movies = set(random.sample(sorted(watched_movies), min(10,2*(len(watched_movies))//3)))\n",
    "            hidden_movies = watched_movies - training_movies\n",
    "            #print(len(training_movies), len(hidden_movies), training_movies, hidden_movies,sep='\\n')\n",
    "\n",
    "            # Create temporary graph with training movies only\n",
    "            temp_graph = graph.copy()\n",
    "            for movie in hidden_movies:\n",
    "                temp_graph.remove_edge(user, movie)\n",
    "            \n",
    "            #print(num_walks)\n",
    "            # Perform random walks and rank movies\n",
    "            movie_visits = perform_random_walks(temp_graph, start_node=user, walk_length=walk_length, num_walks=num_walks)\n",
    "            recommendations = rank_movies_with_penalty(temp_graph, movie_visits, walk_length=walk_length, penalty_type=penalty_type,\n",
    "                                                       total_walks=num_walks)\n",
    "            \n",
    "            # Calculate accuracy metrics\n",
    "            top_k_accuracy = calculate_top_k_accuracy(recommendations, hidden_movies, k)\n",
    "            pair_accuracy = calculate_correctly_placed_pairs(recommendations, {movie: idx for idx, movie in enumerate(hidden_movies)})\n",
    "            \n",
    "            avg_top_k_accuracy += top_k_accuracy\n",
    "            avg_pair_accuracy += pair_accuracy\n",
    "            results.append({\n",
    "                \"user\": user,\n",
    "                \"top_k_accuracy\": top_k_accuracy,\n",
    "                \"pair_accuracy\": pair_accuracy\n",
    "            })\n",
    "            \n",
    "    # Average the accuracies\n",
    "    avg_top_k_accuracy /= num_users\n",
    "    avg_pair_accuracy /= num_users\n",
    "    return avg_top_k_accuracy, avg_pair_accuracy, results\n",
    "\n"
   ]
  },
  {
   "cell_type": "code",
   "execution_count": 51,
   "id": "350573d3-ce24-4cc1-a84b-c6f243794481",
   "metadata": {},
   "outputs": [],
   "source": [
    "import pandas as pd\n",
    "def save_result(avg_top_k_accuracy, avg_pair_accuracy,results ,name=\"\"):\n",
    "    \n",
    "    # Convert results to DataFrame\n",
    "    results_df = pd.DataFrame(results)\n",
    "    \n",
    "    # Add overall metrics to the DataFrame\n",
    "    results_df['avg_top_k_accuracy'] = avg_top_k_accuracy\n",
    "    results_df['avg_pair_accuracy'] = avg_pair_accuracy\n",
    "    \n",
    "    # Save to CSV\n",
    "    results_df.to_csv(f\"evaluation_results{name}.csv\", index=False)\n",
    "    print(f\"Results saved to evaluation_results{name}.csv\")\n"
   ]
  },
  {
   "cell_type": "code",
   "execution_count": 21,
   "id": "367c9997-60fc-462c-993a-1721ecb7be44",
   "metadata": {},
   "outputs": [],
   "source": [
    "import matplotlib.pyplot as plt\n",
    "import numpy as np\n",
    "\n",
    "def visualize_results(avg_top_k_accuracy, avg_pair_accuracy, results):\n",
    "    \"\"\"\n",
    "    Visualize the accuracy results.\n",
    "\n",
    "    Parameters:\n",
    "    - avg_top_k_accuracy: Average Top-K accuracy across users.\n",
    "    - avg_pair_accuracy: Average pairwise accuracy across users.\n",
    "    - results: Per-user metrics.\n",
    "    \"\"\"\n",
    "    # Bar chart of per-user accuracies\n",
    "    users = [result[\"user\"] for result in results]\n",
    "    top_k_accuracies = [result[\"top_k_accuracy\"] for result in results]\n",
    "    pair_accuracies = [result[\"pair_accuracy\"] for result in results]\n",
    "\n",
    "    x = np.arange(len(users))  # User indices\n",
    "\n",
    "    plt.figure(figsize=(12, 6))\n",
    "    plt.bar(x - 0.2, top_k_accuracies, width=0.4, label=\"Top-K Accuracy\")\n",
    "    plt.bar(x + 0.2, pair_accuracies, width=0.4, label=\"Pairwise Accuracy\")\n",
    "\n",
    "    # Add lines for the average accuracies\n",
    "    plt.axhline(y=avg_top_k_accuracy, color='blue', linestyle='--', label=f\"Avg Top-K Accuracy: {avg_top_k_accuracy:.4f}\")\n",
    "    plt.axhline(y=avg_pair_accuracy, color='orange', linestyle='--', label=f\"Avg Pairwise Accuracy: {avg_pair_accuracy:.4f}\")\n",
    "\n",
    "    plt.xlabel(\"Users\")  # Generic label for the x-axis\n",
    "    plt.ylabel(\"Accuracy\")\n",
    "    plt.title(\"Per-User Accuracy Metrics\")\n",
    "    # Remove the user names from the x-axis\n",
    "    # plt.xticks(x, users, rotation=90)  # Commented out to hide user names\n",
    "    plt.legend(loc=\"upper left\")  # Place the legend in the top left corner\n",
    "    plt.tight_layout()\n",
    "    plt.show()\n",
    "\n",
    "    # Overall averages (printed in the console)\n",
    "    print(f\"Average Top-K Accuracy: {avg_top_k_accuracy:.4f}\")\n",
    "    print(f\"Average Pairwise Accuracy: {avg_pair_accuracy:.4f}\")\n"
   ]
  },
  {
   "cell_type": "code",
   "execution_count": 42,
   "id": "0c372492-62a3-40d0-8f85-c4e2cdcc9102",
   "metadata": {},
   "outputs": [
    {
     "name": "stdout",
     "output_type": "stream",
     "text": [
      "Working on: user_6040"
     ]
    }
   ],
   "source": [
    "avg_top_k_accuracy, avg_pair_accuracy, results = evaluate_recommender(graph=user_movie_graph,walk_length=3,penalty_type=\"b\",k=10)"
   ]
  },
  {
   "cell_type": "code",
   "execution_count": 43,
   "id": "d3f66f25-f096-4871-9d26-539b36b22afe",
   "metadata": {
    "scrolled": true
   },
   "outputs": [
    {
     "data": {
      "image/png": "[encoded data removed]",
      "text/plain": [
       "<Figure size 1200x600 with 1 Axes>"
      ]
     },
     "metadata": {},
     "output_type": "display_data"
    },
    {
     "name": "stdout",
     "output_type": "stream",
     "text": [
      "Average Top-K Accuracy: 0.4033\n",
      "Average Pairwise Accuracy: 0.7545\n"
     ]
    }
   ],
   "source": [
    "visualize_results(avg_top_k_accuracy, avg_pair_accuracy, results)"
   ]
  },
  {
   "cell_type": "code",
   "execution_count": 52,
   "id": "65222100-bba6-426b-81e9-e71b6ffa5e7e",
   "metadata": {},
   "outputs": [
    {
     "name": "stdout",
     "output_type": "stream",
     "text": [
      "Results saved to evaluation_resultswalk3.csv\n"
     ]
    }
   ],
   "source": [
    "save_result(avg_top_k_accuracy, avg_pair_accuracy, results,\"walk3\")"
   ]
  },
  {
   "cell_type": "code",
   "execution_count": null,
   "id": "5924dd5a-0171-486d-9ff2-384bf2232813",
   "metadata": {},
   "outputs": [],
   "source": [
    "avg_top_k_accuracy5, avg_pair_accuracy5,results5 = evaluate_recommender(user_movie_graph, walk_length=5 ,penalty_type=\"b\", k=10)"
   ]
  },
  {
   "cell_type": "code",
   "execution_count": null,
   "id": "40eccb73-50eb-4d3a-96bc-7445dc64b9a2",
   "metadata": {},
   "outputs": [],
   "source": [
    "visualize_results(avg_top_k_accuracy5, avg_pair_accuracy5, results5)"
   ]
  },
  {
   "cell_type": "code",
   "execution_count": null,
   "id": "711f503a-0855-4149-b857-b60ef843da7d",
   "metadata": {},
   "outputs": [],
   "source": [
    "save_result(avg_top_k_accuracy5, avg_pair_accurac5, result5,\"walk5\")"
   ]
  }
 ],
 "metadata": {
  "kernelspec": {
   "display_name": "Python 3 (ipykernel)",
   "language": "python",
   "name": "python3"
  },
  "language_info": {
   "codemirror_mode": {
    "name": "ipython",
    "version": 3
   },
   "file_extension": ".py",
   "mimetype": "text/x-python",
   "name": "python",
   "nbconvert_exporter": "python",
   "pygments_lexer": "ipython3",
   "version": "3.13.1"
  }
 },
 "nbformat": 4,
 "nbformat_minor": 5
}
